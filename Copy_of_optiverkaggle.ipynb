{
  "nbformat": 4,
  "nbformat_minor": 0,
  "metadata": {
    "colab": {
      "name": "Copy of optiverkaggle",
      "provenance": [],
      "authorship_tag": "ABX9TyNuc+i/iEJutCsSO01+WAOg",
      "include_colab_link": true
    },
    "kernelspec": {
      "name": "python3",
      "display_name": "Python 3"
    },
    "language_info": {
      "name": "python"
    }
  },
  "cells": [
    {
      "cell_type": "markdown",
      "metadata": {
        "id": "view-in-github",
        "colab_type": "text"
      },
      "source": [
        "<a href=\"https://colab.research.google.com/github/faroanalytics/COVID-19/blob/master/Copy_of_optiverkaggle.ipynb\" target=\"_parent\"><img src=\"https://colab.research.google.com/assets/colab-badge.svg\" alt=\"Open In Colab\"/></a>"
      ]
    },
    {
      "cell_type": "code",
      "metadata": {
        "id": "VLkHyMwFBsb6"
      },
      "source": [
        "import pandas as pd"
      ],
      "execution_count": null,
      "outputs": []
    },
    {
      "cell_type": "code",
      "metadata": {
        "colab": {
          "base_uri": "https://localhost:8080/"
        },
        "id": "SJMYSRMYJaln",
        "outputId": "99b9fc77-37e8-4c29-be79-0bfc47c468f6"
      },
      "source": [
        "from google.colab import drive\n",
        "drive.mount(\"/content/gdrive\")"
      ],
      "execution_count": null,
      "outputs": [
        {
          "output_type": "stream",
          "text": [
            "Mounted at /content/gdrive\n"
          ],
          "name": "stdout"
        }
      ]
    },
    {
      "cell_type": "code",
      "metadata": {
        "colab": {
          "base_uri": "https://localhost:8080/",
          "height": 419
        },
        "id": "jfbVIHoF30Y5",
        "outputId": "c8f99e24-8531-41b2-c818-0e7e518953c2"
      },
      "source": [
        "pd.read_parquet('/content/gdrive/My Drive/optiver-realized-volatility-prediction/book_train.parquet/stock_id=0/c439ef22282f412ba39e9137a3fdabac.parquet', engine='pyarrow')"
      ],
      "execution_count": null,
      "outputs": [
        {
          "output_type": "execute_result",
          "data": {
            "text/html": [
              "<div>\n",
              "<style scoped>\n",
              "    .dataframe tbody tr th:only-of-type {\n",
              "        vertical-align: middle;\n",
              "    }\n",
              "\n",
              "    .dataframe tbody tr th {\n",
              "        vertical-align: top;\n",
              "    }\n",
              "\n",
              "    .dataframe thead th {\n",
              "        text-align: right;\n",
              "    }\n",
              "</style>\n",
              "<table border=\"1\" class=\"dataframe\">\n",
              "  <thead>\n",
              "    <tr style=\"text-align: right;\">\n",
              "      <th></th>\n",
              "      <th>time_id</th>\n",
              "      <th>seconds_in_bucket</th>\n",
              "      <th>bid_price1</th>\n",
              "      <th>ask_price1</th>\n",
              "      <th>bid_price2</th>\n",
              "      <th>ask_price2</th>\n",
              "      <th>bid_size1</th>\n",
              "      <th>ask_size1</th>\n",
              "      <th>bid_size2</th>\n",
              "      <th>ask_size2</th>\n",
              "    </tr>\n",
              "  </thead>\n",
              "  <tbody>\n",
              "    <tr>\n",
              "      <th>0</th>\n",
              "      <td>5</td>\n",
              "      <td>0</td>\n",
              "      <td>1.001422</td>\n",
              "      <td>1.002301</td>\n",
              "      <td>1.001370</td>\n",
              "      <td>1.002353</td>\n",
              "      <td>3</td>\n",
              "      <td>226</td>\n",
              "      <td>2</td>\n",
              "      <td>100</td>\n",
              "    </tr>\n",
              "    <tr>\n",
              "      <th>1</th>\n",
              "      <td>5</td>\n",
              "      <td>1</td>\n",
              "      <td>1.001422</td>\n",
              "      <td>1.002301</td>\n",
              "      <td>1.001370</td>\n",
              "      <td>1.002353</td>\n",
              "      <td>3</td>\n",
              "      <td>100</td>\n",
              "      <td>2</td>\n",
              "      <td>100</td>\n",
              "    </tr>\n",
              "    <tr>\n",
              "      <th>2</th>\n",
              "      <td>5</td>\n",
              "      <td>5</td>\n",
              "      <td>1.001422</td>\n",
              "      <td>1.002301</td>\n",
              "      <td>1.001370</td>\n",
              "      <td>1.002405</td>\n",
              "      <td>3</td>\n",
              "      <td>100</td>\n",
              "      <td>2</td>\n",
              "      <td>100</td>\n",
              "    </tr>\n",
              "    <tr>\n",
              "      <th>3</th>\n",
              "      <td>5</td>\n",
              "      <td>6</td>\n",
              "      <td>1.001422</td>\n",
              "      <td>1.002301</td>\n",
              "      <td>1.001370</td>\n",
              "      <td>1.002405</td>\n",
              "      <td>3</td>\n",
              "      <td>126</td>\n",
              "      <td>2</td>\n",
              "      <td>100</td>\n",
              "    </tr>\n",
              "    <tr>\n",
              "      <th>4</th>\n",
              "      <td>5</td>\n",
              "      <td>7</td>\n",
              "      <td>1.001422</td>\n",
              "      <td>1.002301</td>\n",
              "      <td>1.001370</td>\n",
              "      <td>1.002405</td>\n",
              "      <td>3</td>\n",
              "      <td>126</td>\n",
              "      <td>2</td>\n",
              "      <td>100</td>\n",
              "    </tr>\n",
              "    <tr>\n",
              "      <th>...</th>\n",
              "      <td>...</td>\n",
              "      <td>...</td>\n",
              "      <td>...</td>\n",
              "      <td>...</td>\n",
              "      <td>...</td>\n",
              "      <td>...</td>\n",
              "      <td>...</td>\n",
              "      <td>...</td>\n",
              "      <td>...</td>\n",
              "      <td>...</td>\n",
              "    </tr>\n",
              "    <tr>\n",
              "      <th>917548</th>\n",
              "      <td>32767</td>\n",
              "      <td>568</td>\n",
              "      <td>0.998275</td>\n",
              "      <td>0.998754</td>\n",
              "      <td>0.997796</td>\n",
              "      <td>0.998946</td>\n",
              "      <td>90</td>\n",
              "      <td>90</td>\n",
              "      <td>48</td>\n",
              "      <td>28</td>\n",
              "    </tr>\n",
              "    <tr>\n",
              "      <th>917549</th>\n",
              "      <td>32767</td>\n",
              "      <td>569</td>\n",
              "      <td>0.998275</td>\n",
              "      <td>0.998754</td>\n",
              "      <td>0.997892</td>\n",
              "      <td>0.998946</td>\n",
              "      <td>91</td>\n",
              "      <td>90</td>\n",
              "      <td>200</td>\n",
              "      <td>28</td>\n",
              "    </tr>\n",
              "    <tr>\n",
              "      <th>917550</th>\n",
              "      <td>32767</td>\n",
              "      <td>571</td>\n",
              "      <td>0.998275</td>\n",
              "      <td>0.998754</td>\n",
              "      <td>0.997892</td>\n",
              "      <td>0.998946</td>\n",
              "      <td>91</td>\n",
              "      <td>90</td>\n",
              "      <td>100</td>\n",
              "      <td>28</td>\n",
              "    </tr>\n",
              "    <tr>\n",
              "      <th>917551</th>\n",
              "      <td>32767</td>\n",
              "      <td>572</td>\n",
              "      <td>0.998275</td>\n",
              "      <td>0.998754</td>\n",
              "      <td>0.997892</td>\n",
              "      <td>0.998946</td>\n",
              "      <td>92</td>\n",
              "      <td>90</td>\n",
              "      <td>100</td>\n",
              "      <td>28</td>\n",
              "    </tr>\n",
              "    <tr>\n",
              "      <th>917552</th>\n",
              "      <td>32767</td>\n",
              "      <td>582</td>\n",
              "      <td>0.998275</td>\n",
              "      <td>0.998754</td>\n",
              "      <td>0.998179</td>\n",
              "      <td>0.998946</td>\n",
              "      <td>92</td>\n",
              "      <td>90</td>\n",
              "      <td>26</td>\n",
              "      <td>28</td>\n",
              "    </tr>\n",
              "  </tbody>\n",
              "</table>\n",
              "<p>917553 rows × 10 columns</p>\n",
              "</div>"
            ],
            "text/plain": [
              "        time_id  seconds_in_bucket  bid_price1  ...  ask_size1  bid_size2  ask_size2\n",
              "0             5                  0    1.001422  ...        226          2        100\n",
              "1             5                  1    1.001422  ...        100          2        100\n",
              "2             5                  5    1.001422  ...        100          2        100\n",
              "3             5                  6    1.001422  ...        126          2        100\n",
              "4             5                  7    1.001422  ...        126          2        100\n",
              "...         ...                ...         ...  ...        ...        ...        ...\n",
              "917548    32767                568    0.998275  ...         90         48         28\n",
              "917549    32767                569    0.998275  ...         90        200         28\n",
              "917550    32767                571    0.998275  ...         90        100         28\n",
              "917551    32767                572    0.998275  ...         90        100         28\n",
              "917552    32767                582    0.998275  ...         90         26         28\n",
              "\n",
              "[917553 rows x 10 columns]"
            ]
          },
          "metadata": {
            "tags": []
          },
          "execution_count": 4
        }
      ]
    }
  ]
}